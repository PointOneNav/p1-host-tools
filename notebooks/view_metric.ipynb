{
 "cells": [
  {
   "cell_type": "code",
   "execution_count": null,
   "metadata": {},
   "outputs": [],
   "source": [
    "import numpy as np\n",
    "import pandas as pd\n",
    "from pathlib import Path\n",
    "\n",
    "# pip install ipykernel plotly_express nbformat\n",
    "\n",
    "log_directory = Path('/logs/2025-04-18/jenkins-st-heading1/6676678290a54309924534061643268f/playback/')\n",
    "\n",
    "\n",
    "data_file = log_directory / 'gnss_attitude_yaw_error.bin'\n",
    "\n",
    "# Format for metric log:\n",
    "# [u32 test time elapsed in milliseconds (host if available, or device for playback)][f64 metric value]\n",
    "# _METRIC_LOG_FORMAT = '<Id'\n",
    "\n",
    "metric_entry = np.dtype([('elapsed_ms', np.uint32), ('value', np.float64)])\n",
    "\n",
    "data = np.fromfile(data_file, metric_entry)\n",
    "df = pd.DataFrame(data)\n",
    "print(df)"
   ]
  },
  {
   "cell_type": "code",
   "execution_count": null,
   "metadata": {},
   "outputs": [],
   "source": [
    "import plotly.express as px\n",
    "\n",
    "fig = px.scatter(df, x='elapsed_ms', y='value')\n",
    "fig.show()"
   ]
  }
 ],
 "metadata": {
  "kernelspec": {
   "display_name": "p1-host-tools-internal",
   "language": "python",
   "name": "python3"
  },
  "language_info": {
   "codemirror_mode": {
    "name": "ipython",
    "version": 3
   },
   "file_extension": ".py",
   "mimetype": "text/x-python",
   "name": "python",
   "nbconvert_exporter": "python",
   "pygments_lexer": "ipython3",
   "version": "3.10.14"
  }
 },
 "nbformat": 4,
 "nbformat_minor": 2
}

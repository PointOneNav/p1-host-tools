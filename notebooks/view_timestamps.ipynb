{
 "cells": [
  {
   "cell_type": "code",
   "execution_count": null,
   "metadata": {},
   "outputs": [],
   "source": [
    "import numpy as np\n",
    "import pandas as pd\n",
    "from pathlib import Path\n",
    "\n",
    "# pip install ipykernel plotly_express nbformat\n",
    "\n",
    "#log_directory = Path('/logs/2024-10-19/atlas1/dcaade234ad54ba4931241ff6fe5fa96')\n",
    "#log_directory = Path('/logs/2024-10-21/atlas1/c3c36fdf717b4ff88bca11eddd966c94')\n",
    "log_directory = Path('/logs/2024-10-21/run_local/724fd6728d4149c09a54880480118937')\n",
    "\n",
    "\n",
    "time_data_file = log_directory / 'msg_times.bin'\n",
    "\n",
    "time_entry = np.dtype([('elapsed_ms', np.uint32), ('seq_num', np.uint32)])\n",
    "\n",
    "time_data = np.fromfile(time_data_file, time_entry)\n",
    "df = pd.DataFrame(time_data)\n",
    "print(df)"
   ]
  },
  {
   "cell_type": "code",
   "execution_count": null,
   "metadata": {},
   "outputs": [],
   "source": [
    "import plotly.express as px\n",
    "\n",
    "df['dt'] = df['elapsed_ms'].diff()\n",
    "\n",
    "fig = px.scatter(df, x='elapsed_ms', y='dt')\n",
    "fig.show()"
   ]
  },
  {
   "cell_type": "code",
   "execution_count": null,
   "metadata": {},
   "outputs": [],
   "source": [
    "from fusion_engine_client.parsers import fast_indexer\n",
    "from fusion_engine_client.messages import PoseMessage, MessageHeader\n",
    "\n",
    "input_data_file = log_directory / 'input.raw'\n",
    "index = fast_indexer.fast_generate_index(str(input_data_file))\n",
    "\n",
    "print(len(df['seq_num']), len(index.offset))\n",
    "\n",
    "# The msg_times.bin stops before the end of the data sequence (it covers the messages that were actually checked).\n",
    "index = index[:len(df['seq_num'])]\n",
    "\n",
    "# Check sequence numbers\n",
    "header = MessageHeader()\n",
    "header_size = MessageHeader.calcsize()\n",
    "with open(input_data_file, 'rb') as fd:\n",
    "    for i in range(len(df['seq_num'])):\n",
    "        offset = index.offset[i]\n",
    "        fd.seek(offset)\n",
    "        data = fd.read(header_size)\n",
    "        header.unpack(data)\n",
    "        assert header.sequence_number == df['seq_num'][i]\n",
    "\n",
    "\n",
    "pose_indexes = index[PoseMessage.MESSAGE_TYPE].message_index\n",
    "pose_timestamps = (df['elapsed_ms'].to_numpy())[pose_indexes]\n",
    "\n",
    "fig = px.scatter(x=pose_timestamps[1:], y=np.diff(pose_timestamps))\n",
    "fig.show()\n"
   ]
  }
 ],
 "metadata": {
  "kernelspec": {
   "display_name": "p1-host-tools-internal",
   "language": "python",
   "name": "python3"
  },
  "language_info": {
   "codemirror_mode": {
    "name": "ipython",
    "version": 3
   },
   "file_extension": ".py",
   "mimetype": "text/x-python",
   "name": "python",
   "nbconvert_exporter": "python",
   "pygments_lexer": "ipython3",
   "version": "3.10.14"
  }
 },
 "nbformat": 4,
 "nbformat_minor": 2
}
